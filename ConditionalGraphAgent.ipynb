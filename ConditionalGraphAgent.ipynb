{
 "cells": [
  {
   "cell_type": "code",
   "execution_count": 1,
   "id": "7358b786",
   "metadata": {},
   "outputs": [
    {
     "name": "stderr",
     "output_type": "stream",
     "text": [
      "/Users/anirudhiyer/Programming/LangGraph/LangGraph-Basics/.venv/lib/python3.9/site-packages/urllib3/__init__.py:35: NotOpenSSLWarning: urllib3 v2 only supports OpenSSL 1.1.1+, currently the 'ssl' module is compiled with 'LibreSSL 2.8.3'. See: https://github.com/urllib3/urllib3/issues/3020\n",
      "  warnings.warn(\n"
     ]
    }
   ],
   "source": [
    "from typing import TypedDict\n",
    "from langgraph.graph import START, END, StateGraph"
   ]
  },
  {
   "cell_type": "code",
   "execution_count": null,
   "id": "59a0521b",
   "metadata": {},
   "outputs": [],
   "source": [
    "class AgentState(TypedDict) : \n",
    "    number1 : int\n",
    "    number2 : int\n",
    "    operation : str\n",
    "    result : int\n",
    "\n",
    "def addition_node(state : AgentState) -> AgentState : \n",
    "    \"\"\"Node that performs addition operation\"\"\"\n",
    "    state['result'] = state['number1'] + state['number2']\n",
    "    return state\n",
    "\n",
    "def subtraction_node(state : AgentState) -> AgentState : \n",
    "    \"\"\"Node that performs subtraction operation\"\"\"\n",
    "    state['result'] = state['number1'] - state['number2']\n",
    "    return state\n",
    "\n",
    "def routing_function(state : AgentState) -> AgentState : \n",
    "    \"\"\"Function that performs routing logic\"\"\"\n",
    "    if state['operation'] == '+' : \n",
    "        return \"addition\"\n",
    "    \n",
    "    elif state['operation'] == '-' : \n",
    "        return \"subtraction\"\n",
    "    \n",
    "    return state"
   ]
  },
  {
   "cell_type": "code",
   "execution_count": null,
   "id": "2b31ebed",
   "metadata": {},
   "outputs": [
    {
     "data": {
      "text/plain": [
       "<langgraph.graph.state.StateGraph at 0x1089bb190>"
      ]
     },
     "execution_count": 3,
     "metadata": {},
     "output_type": "execute_result"
    }
   ],
   "source": [
    "#Initializing the graph\n",
    "graph = StateGraph(AgentState)\n",
    "\n",
    "#Adding nodes to the graph\n",
    "graph.add_node(\"addition_node\", addition_node)\n",
    "graph.add_node(\"subtraction_node\", subtraction_node)\n",
    "graph.add_node(\"routing_node\", lambda x : x)\n",
    "\n",
    "#Setting the start and finish point\n",
    "graph.add_edge(START, \"routing_node\")\n",
    "graph.add_edge(\"addition_node\", END)\n",
    "graph.add_edge(\"subtraction_node\", END)\n",
    "\n",
    "#Adding conditional edges to the graph\n",
    "graph.add_conditional_edges(\"routing_node\",\n",
    "                            routing_function,\n",
    "                            {\n",
    "                                \"addition\" : \"addition_node\",\n",
    "                                \"subtraction\" : \"subtraction_node\"\n",
    "                            })"
   ]
  },
  {
   "cell_type": "code",
   "execution_count": null,
   "id": "bfb4e229",
   "metadata": {},
   "outputs": [
    {
     "name": "stdout",
     "output_type": "stream",
     "text": [
      "5\n"
     ]
    }
   ],
   "source": [
    "#Compiling the graph\n",
    "app = graph.compile()\n",
    "\n",
    "#Executing the graph\n",
    "result = app.invoke({\n",
    "    'number1' : 2,\n",
    "    'number2' : 3,\n",
    "    'operation' : \"+\"\n",
    "\n",
    "})\n",
    "\n",
    "print(result['result'])"
   ]
  },
  {
   "cell_type": "code",
   "execution_count": 8,
   "id": "e67f8a6b",
   "metadata": {},
   "outputs": [
    {
     "data": {
      "image/png": "[encoded data removed]",
      "text/plain": [
       "<IPython.core.display.Image object>"
      ]
     },
     "execution_count": 8,
     "metadata": {},
     "output_type": "execute_result"
    }
   ],
   "source": [
    "from IPython.display import Image\n",
    "Image(app.get_graph().draw_mermaid_png())"
   ]
  }
 ],
 "metadata": {
  "kernelspec": {
   "display_name": ".venv",
   "language": "python",
   "name": "python3"
  },
  "language_info": {
   "codemirror_mode": {
    "name": "ipython",
    "version": 3
   },
   "file_extension": ".py",
   "mimetype": "text/x-python",
   "name": "python",
   "nbconvert_exporter": "python",
   "pygments_lexer": "ipython3",
   "version": "3.9.6"
  }
 },
 "nbformat": 4,
 "nbformat_minor": 5
}
