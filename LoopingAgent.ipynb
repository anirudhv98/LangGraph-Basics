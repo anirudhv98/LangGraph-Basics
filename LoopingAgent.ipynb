{
 "cells": [
  {
   "cell_type": "code",
   "execution_count": 13,
   "id": "8a3eec4a",
   "metadata": {},
   "outputs": [],
   "source": [
    "from typing import TypedDict\n",
    "from langgraph.graph import StateGraph, START, END\n",
    "import random"
   ]
  },
  {
   "cell_type": "code",
   "execution_count": 20,
   "id": "d0e221d1",
   "metadata": {},
   "outputs": [],
   "source": [
    "class AgentState(TypedDict) : \n",
    "    name : str\n",
    "    message : str\n",
    "    number : int\n",
    "    counter : int\n",
    "\n",
    "def welcome_node(state : AgentState) -> AgentState : \n",
    "    \"\"\"First node of the graph that prints a welcome message\"\"\"\n",
    "    state['message'] = f\"Hello {state['name']}\"\n",
    "    state['counter'] = 0\n",
    "    state['number'] = random.randint(1,10)\n",
    "    return state \n",
    "\n",
    "def random_node(state : AgentState) -> AgentState : \n",
    "    \"\"\"Second node of the graph which increments counter value\"\"\"\n",
    "    state['counter'] += 1\n",
    "    print(state['counter'])\n",
    "    return state \n",
    "\n",
    "def looping_logic(state : AgentState) -> AgentState : \n",
    "    \"\"\"Looping logic for graph\"\"\"\n",
    "    if state['counter'] == state['number'] : \n",
    "        return \"exit\"\n",
    "    \n",
    "    else : \n",
    "        return \"loop\"\n"
   ]
  },
  {
   "cell_type": "code",
   "execution_count": null,
   "id": "e6fff3a1",
   "metadata": {},
   "outputs": [
    {
     "data": {
      "text/plain": [
       "<langgraph.graph.state.StateGraph at 0x109864520>"
      ]
     },
     "execution_count": 21,
     "metadata": {},
     "output_type": "execute_result"
    }
   ],
   "source": [
    "#Initializing the graph\n",
    "graph = StateGraph(AgentState)\n",
    "\n",
    "#Adding nodes to the graph\n",
    "graph.add_node(\"welcome_node\", welcome_node)\n",
    "graph.add_node(\"random_node\", random_node)\n",
    "\n",
    "#Adding edges to the graph\n",
    "graph.add_edge(START, \"welcome_node\")\n",
    "graph.add_edge(\"welcome_node\", \"random_node\")\n",
    "\n",
    "#Adding conditional edge to the graph\n",
    "graph.add_conditional_edges(\"random_node\", \n",
    "                            looping_logic, \n",
    "                            {\n",
    "                                \"loop\" : \"random_node\",\n",
    "                                \"exit\" : END\n",
    "                            })"
   ]
  },
  {
   "cell_type": "code",
   "execution_count": null,
   "id": "e5b7b95d",
   "metadata": {},
   "outputs": [
    {
     "name": "stdout",
     "output_type": "stream",
     "text": [
      "1\n",
      "2\n",
      "{'name': 'Ani', 'message': 'Hello Ani', 'number': 2, 'counter': 2}\n"
     ]
    }
   ],
   "source": [
    "#Compiling and running the graph\n",
    "app = graph.compile()\n",
    "print(app.invoke(\n",
    "    {\n",
    "        'name':'Ani',\n",
    "    }\n",
    "))"
   ]
  },
  {
   "cell_type": "code",
   "execution_count": 23,
   "id": "6d5b049a",
   "metadata": {},
   "outputs": [
    {
     "data": {
      "image/png": "[encoded data removed]",
      "text/plain": [
       "<IPython.core.display.Image object>"
      ]
     },
     "execution_count": 23,
     "metadata": {},
     "output_type": "execute_result"
    }
   ],
   "source": [
    "from IPython.display import Image\n",
    "Image(app.get_graph().draw_mermaid_png())"
   ]
  }
 ],
 "metadata": {
  "kernelspec": {
   "display_name": ".venv",
   "language": "python",
   "name": "python3"
  },
  "language_info": {
   "codemirror_mode": {
    "name": "ipython",
    "version": 3
   },
   "file_extension": ".py",
   "mimetype": "text/x-python",
   "name": "python",
   "nbconvert_exporter": "python",
   "pygments_lexer": "ipython3",
   "version": "3.9.6"
  }
 },
 "nbformat": 4,
 "nbformat_minor": 5
}
