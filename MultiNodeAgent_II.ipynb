{
 "cells": [
  {
   "cell_type": "code",
   "execution_count": 2,
   "id": "4176b548",
   "metadata": {},
   "outputs": [],
   "source": [
    "from typing import TypedDict, List\n",
    "from langgraph.graph import StateGraph"
   ]
  },
  {
   "cell_type": "code",
   "execution_count": 8,
   "id": "86d675bf",
   "metadata": {},
   "outputs": [],
   "source": [
    "class AgentState(TypedDict) : \n",
    "    name : str\n",
    "    age : int \n",
    "    skills : List[str]\n",
    "    output : str \n",
    "\n",
    "def first_node(state : AgentState) -> AgentState : \n",
    "    \"\"\"First node in the sequence\"\"\"\n",
    "    state['output'] = f\"Hello {state['name']}.\"\n",
    "    return state \n",
    "\n",
    "def second_node(state : AgentState) -> AgentState : \n",
    "    \"\"\"Second node in the sequence\"\"\"\n",
    "    state['output'] += f\" You are {state['age']} years old.\"\n",
    "    return state\n",
    "\n",
    "def third_node(state : AgentState) -> AgentState : \n",
    "    \"\"\"Third node in the sequence\"\"\"\n",
    "    state['output'] += f\" You are skilled in : {state['skills']}\"\n",
    "    return state\n"
   ]
  },
  {
   "cell_type": "code",
   "execution_count": null,
   "id": "fa2f2cd7",
   "metadata": {},
   "outputs": [
    {
     "data": {
      "text/plain": [
       "<langgraph.graph.state.StateGraph at 0x10dc488e0>"
      ]
     },
     "execution_count": 9,
     "metadata": {},
     "output_type": "execute_result"
    }
   ],
   "source": [
    "#Initialize the graph\n",
    "graph = StateGraph(AgentState)\n",
    "\n",
    "#Add nodes to the graph\n",
    "graph.add_node(\"first_node\", first_node)\n",
    "graph.add_node(\"second_node\", second_node)\n",
    "graph.add_node(\"third_node\", third_node)\n",
    "\n",
    "#Set entry point and finish point\n",
    "graph.set_entry_point(\"first_node\")\n",
    "graph.set_finish_point(\"third_node\")\n",
    "\n",
    "#Add edges\n",
    "graph.add_edge(\"first_node\", \"second_node\")\n",
    "graph.add_edge(\"second_node\", \"third_node\")"
   ]
  },
  {
   "cell_type": "code",
   "execution_count": null,
   "id": "8ebfc22a",
   "metadata": {},
   "outputs": [
    {
     "name": "stdout",
     "output_type": "stream",
     "text": [
      "Hello Ani. You are 27 years old. You are skilled in : ['C#', 'Java', 'Python']\n"
     ]
    }
   ],
   "source": [
    "#Compile the graph\n",
    "app = graph.compile()\n",
    "\n",
    "#Execute the graph\n",
    "result = app.invoke({\n",
    "    'name' : \"Ani\",\n",
    "    'age' : 27,\n",
    "    \"skills\" : [\"C#\", \"Java\", \"Python\"]\n",
    " })\n",
    "\n",
    "print(result['output'])"
   ]
  }
 ],
 "metadata": {
  "kernelspec": {
   "display_name": ".venv",
   "language": "python",
   "name": "python3"
  },
  "language_info": {
   "codemirror_mode": {
    "name": "ipython",
    "version": 3
   },
   "file_extension": ".py",
   "mimetype": "text/x-python",
   "name": "python",
   "nbconvert_exporter": "python",
   "pygments_lexer": "ipython3",
   "version": "3.9.6"
  }
 },
 "nbformat": 4,
 "nbformat_minor": 5
}
