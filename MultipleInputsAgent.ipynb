{
 "cells": [
  {
   "cell_type": "code",
   "execution_count": 1,
   "id": "9f68c90f",
   "metadata": {},
   "outputs": [
    {
     "name": "stderr",
     "output_type": "stream",
     "text": [
      "/Users/anirudhiyer/Programming/LangGraph/LangGraph-Basics/.venv/lib/python3.9/site-packages/urllib3/__init__.py:35: NotOpenSSLWarning: urllib3 v2 only supports OpenSSL 1.1.1+, currently the 'ssl' module is compiled with 'LibreSSL 2.8.3'. See: https://github.com/urllib3/urllib3/issues/3020\n",
      "  warnings.warn(\n"
     ]
    }
   ],
   "source": [
    "from typing import TypedDict, List\n",
    "from langgraph.graph import StateGraph"
   ]
  },
  {
   "cell_type": "code",
   "execution_count": 2,
   "id": "89d7bfea",
   "metadata": {},
   "outputs": [],
   "source": [
    "class AgentState(TypedDict) : \n",
    "    numbers : List[int]\n",
    "    name : str \n",
    "    message : str\n",
    "\n",
    "def process(state : AgentState) -> AgentState : \n",
    "    \"\"\"The process node which returns the sum of list of integers passed by the user\"\"\"\n",
    "    state['message'] = f\"Hello {state['name']}, the sum of the numbers that you inserted is : {sum(state['numbers'])}\"\n",
    "    return state "
   ]
  },
  {
   "cell_type": "code",
   "execution_count": null,
   "id": "c5897073",
   "metadata": {},
   "outputs": [
    {
     "data": {
      "text/plain": [
       "<langgraph.graph.state.StateGraph at 0x10e19c0a0>"
      ]
     },
     "execution_count": 3,
     "metadata": {},
     "output_type": "execute_result"
    }
   ],
   "source": [
    "#Initializes a new graph\n",
    "graph = StateGraph(AgentState)\n",
    "\n",
    "#Adds new node to graph\n",
    "graph.add_node(\"process_node\", process)\n",
    "\n",
    "#Sets the entry point\n",
    "graph.set_entry_point(\"process_node\")\n",
    "\n",
    "#Sets the finish point\n",
    "graph.set_finish_point(\"process_node\")\n"
   ]
  },
  {
   "cell_type": "code",
   "execution_count": null,
   "id": "a7bf6b92",
   "metadata": {},
   "outputs": [
    {
     "name": "stdout",
     "output_type": "stream",
     "text": [
      "Hello Ani, the sum of the numbers that you inserted is : 10\n"
     ]
    }
   ],
   "source": [
    "#Compiles the graph\n",
    "app = graph.compile()\n",
    "\n",
    "#Runs the graph\n",
    "result = app.invoke({\n",
    "    'numbers' : [1,2,3,4] ,\n",
    "    'name' : 'Ani'\n",
    " })\n",
    "\n",
    "print(result['message'])"
   ]
  }
 ],
 "metadata": {
  "kernelspec": {
   "display_name": ".venv",
   "language": "python",
   "name": "python3"
  },
  "language_info": {
   "codemirror_mode": {
    "name": "ipython",
    "version": 3
   },
   "file_extension": ".py",
   "mimetype": "text/x-python",
   "name": "python",
   "nbconvert_exporter": "python",
   "pygments_lexer": "ipython3",
   "version": "3.9.6"
  }
 },
 "nbformat": 4,
 "nbformat_minor": 5
}
